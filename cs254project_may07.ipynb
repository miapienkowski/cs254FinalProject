{
 "cells": [
  {
   "cell_type": "markdown",
   "metadata": {},
   "source": [
    "## What to do:\n",
    "- change tower_labels to space-separated list of tags\n",
    "- relook at using the feature extraction/svm - it's kinda the same format as the original x array"
   ]
  },
  {
   "cell_type": "markdown",
   "metadata": {},
   "source": [
    "## Data - Prep"
   ]
  },
  {
   "cell_type": "code",
   "execution_count": 1,
   "metadata": {},
   "outputs": [],
   "source": [
    "    \n",
    "#initial imports\n",
    "import os\n",
    "import random\n",
    "import numpy as np\n",
    "import pandas as pd\n",
    "import json\n",
    "import keras\n",
    "from keras.models import Sequential\n",
    "from keras.utils import to_categorical\n",
    "from keras.preprocessing import image\n",
    "import numpy as np\n",
    "import pandas as pd\n",
    "from sklearn.model_selection import train_test_split\n",
    "from tqdm import tqdm\n",
    "import keras\n",
    "from keras.layers import Dense, Activation, Dropout, Flatten, Conv2D, MaxPooling2D\n",
    "from keras.layers.normalization import BatchNormalization\n",
    "import numpy as np\n",
    "%matplotlib inline\n",
    "    \n",
    "    \n",
    "# vgg16 transfer learning on the planet dataset\n",
    "import sys\n",
    "from numpy import load\n",
    "from matplotlib import pyplot\n",
    "from keras import backend\n",
    "from keras.layers import Dense\n",
    "from keras.layers import Flatten\n",
    "from keras.optimizers import SGD\n",
    "from keras.applications.vgg16 import VGG16\n",
    "from keras.models import Model\n",
    "from keras.preprocessing.image import ImageDataGenerator\n",
    "\n",
    "import matplotlib.pyplot as plt"
   ]
  },
  {
   "cell_type": "code",
   "execution_count": 2,
   "metadata": {},
   "outputs": [
    {
     "name": "stderr",
     "output_type": "stream",
     "text": [
      "100%|███████████████████████████████████████████████████████████████████████████████| 744/744 [00:04<00:00, 168.54it/s]\n",
      "100%|████████████████████████████████████████████████████████████████████████████████| 248/248 [00:03<00:00, 78.67it/s]\n",
      "100%|████████████████████████████████████████████████████████████████████████████████| 249/249 [00:04<00:00, 56.02it/s]\n"
     ]
    }
   ],
   "source": [
    "\n",
    "######################################################################################################\n",
    "#####################################################################################################\n",
    "#getting data ready\n",
    "#create a dataframe containing the names of all of the jpgs in the full dataset\n",
    "fileList = []\n",
    "for file in os.listdir('C:/Users/miapi/Downloads/ttpla_dataset/sized_data - Copy'):\n",
    "    if file.endswith(\".jpg\"):\n",
    "        fileList.append(file)\n",
    "\n",
    "df = pd.DataFrame(fileList)\n",
    "\n",
    "#also creating an index to use later in extracting the img labels from the json files\n",
    "index = df.index\n",
    "\n",
    "#formatting the dataframe\n",
    "df = df.rename(columns={0: \"Id\"}) \n",
    "df['labels'] = df.Id\n",
    "df['labels'] = df['labels'].str.replace('.jpg','')\n",
    "df['tower_wooden'] = \"\"\n",
    "df['tower_lattice'] = \"\"\n",
    "df['tower_tucohy'] = \"\"\n",
    "index = df.index\n",
    " ######################################################################################################\n",
    "#####################################################################################################\n",
    "for file in os.listdir('C:/Users/miapi/Downloads/ttpla_dataset/sized_data - Copy'):\n",
    "    if file.endswith(\".json\"):\n",
    "\n",
    "        #load file as json object\n",
    "        filePath = (\"C:/Users/miapi/Downloads/ttpla_dataset/sized_data - Copy/\"+file)\n",
    "        f = open(filePath,)\n",
    "        json_file = json.load(f)\n",
    "        #get file namme without extension\n",
    "        file2 = file.replace('.json','')\n",
    "\n",
    "        #find designated jpeg (row in df)\n",
    "        #rslt_df = df.loc[df['labels'] == file2]\n",
    "        apples_indices = index[df['labels'] == file2]\n",
    "\n",
    "        #parse json file to see if tower_wooden, tower_lattice, or tower_tucohy exists\n",
    "        #add 0 or 1 to the corresponding dataframe row accordingly\n",
    "\n",
    "        for element in json_file['shapes']:\n",
    "\n",
    "            #tower wooden\n",
    "            bool_wood = any(sd['label']=='tower_wooden' for sd in json_file['shapes'])  \n",
    "            if bool_wood:\n",
    "                df.at[apples_indices,'tower_wooden']= 1\n",
    "            else:\n",
    "                df.at[apples_indices,'tower_wooden']= 0 \n",
    "\n",
    "            #tower lattice\n",
    "            bool_lat = any(sd['label']=='tower_lattice' for sd in json_file['shapes']) \n",
    "            if bool_lat:\n",
    "                df.at[apples_indices,'tower_lattice']= 1\n",
    "            else:\n",
    "                df.at[apples_indices,'tower_lattice']= 0\n",
    "\n",
    "            #tower tucohy\n",
    "            bool_tuc = any(sd['label']=='tower_tucohy' for sd in json_file['shapes']) \n",
    "            if bool_tuc:\n",
    "                df.at[apples_indices,'tower_tucohy']= 1\n",
    "            else:\n",
    "                df.at[apples_indices,'tower_tucohy']= 0\n",
    "######################################################################################################\n",
    "#####################################################################################################                  df.at[apples_indices,'tower_tucohy']= 0\n",
    "\n",
    "#create column containing info for all of the towers\n",
    "df['towers'] = df[['tower_wooden', 'tower_lattice','tower_tucohy']].values.tolist()\n",
    "df['tower_labels'] = np.empty((len(df), 0)).tolist()\n",
    "for i in range(len(df)):\n",
    "\n",
    "    if df['towers'][i][0] == 1:\n",
    "        df['tower_labels'][i].append(\"tower_wooden\")\n",
    "\n",
    "    if df['towers'][i][1] == 1:\n",
    "        df['tower_labels'][i].append(\"tower_lattice\")\n",
    "\n",
    "    if df['towers'][i][2] == 1:\n",
    "        df['tower_labels'][i].append(\"tower_tucohy\")\n",
    "  ######################################################################################################\n",
    "#####################################################################################################        \n",
    "#need to split the data into testing, training, and validating\n",
    "random.seed(123)\n",
    "train, validate, test = \\\n",
    "              np.split(df.sample(frac=1, random_state=42), \n",
    "                       [int(.6*len(df)), int(.8*len(df))])    \n",
    "#reading in all of the training images\n",
    "train_image = []\n",
    "for i in tqdm(range(train.shape[0])):\n",
    "    img = image.load_img('C:/Users/miapi/Downloads/ttpla_dataset/sized_data - Copy/'+train.iloc[i][0],target_size=(400,400,3))\n",
    "    img = image.img_to_array(img)\n",
    "    img = img/255\n",
    "    train_image.append(img)\n",
    "X = np.array(train_image)\n",
    "#reading in all of the validation images\n",
    "valid_image = []\n",
    "for i in tqdm(range(validate.shape[0])):\n",
    "    img = image.load_img('C:/Users/miapi/Downloads/ttpla_dataset/sized_data - Copy/'+validate.iloc[i][0],target_size=(400,400,3))\n",
    "    img = image.img_to_array(img)\n",
    "    img = img/255\n",
    "    valid_image.append(img)\n",
    "X_valid = np.array(valid_image)\n",
    "#reading in all of the test images\n",
    "test_image = []\n",
    "for i in tqdm(range(test.shape[0])):\n",
    "    img = image.load_img('C:/Users/miapi/Downloads/ttpla_dataset/sized_data - Copy/'+test.iloc[i][0],target_size=(400,400,3))\n",
    "    img = image.img_to_array(img)\n",
    "    img = img/255\n",
    "    test_image.append(img)\n",
    "X_test = np.array(test_image)\n",
    "#need to df['DataFrame Column'] = df['DataFrame Column'].astype(float)first convert the column values from strings to floats\n",
    "df['tower_wooden'] = df['tower_wooden'].astype(int)\n",
    "df['tower_lattice'] = df['tower_lattice'].astype(int)\n",
    "df['tower_tucohy'] = df['tower_tucohy'].astype(int)\n",
    "y = np.array(train.drop(['Id', 'labels','towers','tower_labels'],axis=1))\n",
    "\n",
    "#validation set y\n",
    "y_validate = np.array(validate.drop(['Id', 'labels','towers','tower_labels'],axis=1))\n",
    "#test set y\n",
    "y_test = np.array(test.drop(['Id', 'labels','towers','tower_labels'],axis=1))\n",
    "\n",
    "\n",
    "X_train=np.asarray(X).astype(np.int)\n",
    "y_train=np.asarray(y).astype(np.int)\n",
    "X_valid=np.asarray(X_valid).astype(np.int)\n",
    "y_valid=np.asarray(y_validate).astype(np.int)\n",
    "X_test=np.asarray(X_test).astype(np.int)\n",
    "y_test=np.asarray(y_test).astype(np.int)\n"
   ]
  },
  {
   "cell_type": "code",
   "execution_count": null,
   "metadata": {},
   "outputs": [],
   "source": [
    "df.dtypes"
   ]
  },
  {
   "cell_type": "code",
   "execution_count": 3,
   "metadata": {},
   "outputs": [],
   "source": [
    "df['liststring'] = df['tower_labels'].apply(lambda x: ' '.join(map(str, x)))"
   ]
  },
  {
   "cell_type": "code",
   "execution_count": null,
   "metadata": {},
   "outputs": [],
   "source": [
    "df.head()"
   ]
  },
  {
   "cell_type": "code",
   "execution_count": null,
   "metadata": {},
   "outputs": [],
   "source": [
    "# number of unique values in the column \"Labels\"\n",
    "Num = len(df['liststring'].unique())\n",
    "# plot histogram\n",
    "hist = df['liststring'].hist(bins=Num )"
   ]
  },
  {
   "cell_type": "code",
   "execution_count": 4,
   "metadata": {},
   "outputs": [],
   "source": [
    "df.loc[df['liststring'] == '', 'liststring'] = 'none'  "
   ]
  },
  {
   "cell_type": "code",
   "execution_count": null,
   "metadata": {},
   "outputs": [],
   "source": [
    "df.head()"
   ]
  },
  {
   "cell_type": "markdown",
   "metadata": {},
   "source": [
    "## trying to implement mapping"
   ]
  },
  {
   "cell_type": "code",
   "execution_count": 5,
   "metadata": {},
   "outputs": [],
   "source": [
    "#just want labels and liststring\n",
    "mapping_df = df[['labels','liststring']]"
   ]
  },
  {
   "cell_type": "code",
   "execution_count": null,
   "metadata": {},
   "outputs": [],
   "source": [
    "mapping_df.head()"
   ]
  },
  {
   "cell_type": "code",
   "execution_count": 6,
   "metadata": {},
   "outputs": [
    {
     "data": {
      "text/html": [
       "<div>\n",
       "<style scoped>\n",
       "    .dataframe tbody tr th:only-of-type {\n",
       "        vertical-align: middle;\n",
       "    }\n",
       "\n",
       "    .dataframe tbody tr th {\n",
       "        vertical-align: top;\n",
       "    }\n",
       "\n",
       "    .dataframe thead th {\n",
       "        text-align: right;\n",
       "    }\n",
       "</style>\n",
       "<table border=\"1\" class=\"dataframe\">\n",
       "  <thead>\n",
       "    <tr style=\"text-align: right;\">\n",
       "      <th></th>\n",
       "      <th>image_name</th>\n",
       "      <th>tags</th>\n",
       "    </tr>\n",
       "  </thead>\n",
       "  <tbody>\n",
       "    <tr>\n",
       "      <th>0</th>\n",
       "      <td>04_2220</td>\n",
       "      <td>none</td>\n",
       "    </tr>\n",
       "    <tr>\n",
       "      <th>1</th>\n",
       "      <td>04_3420</td>\n",
       "      <td>tower_wooden</td>\n",
       "    </tr>\n",
       "    <tr>\n",
       "      <th>2</th>\n",
       "      <td>04_585</td>\n",
       "      <td>tower_wooden</td>\n",
       "    </tr>\n",
       "    <tr>\n",
       "      <th>3</th>\n",
       "      <td>06_5355</td>\n",
       "      <td>none</td>\n",
       "    </tr>\n",
       "    <tr>\n",
       "      <th>4</th>\n",
       "      <td>07_1035</td>\n",
       "      <td>tower_wooden tower_lattice</td>\n",
       "    </tr>\n",
       "  </tbody>\n",
       "</table>\n",
       "</div>"
      ],
      "text/plain": [
       "  image_name                        tags\n",
       "0    04_2220                        none\n",
       "1    04_3420                tower_wooden\n",
       "2     04_585                tower_wooden\n",
       "3    06_5355                        none\n",
       "4    07_1035  tower_wooden tower_lattice"
      ]
     },
     "execution_count": 6,
     "metadata": {},
     "output_type": "execute_result"
    }
   ],
   "source": [
    "#renaming columns to match tutorial\n",
    "mapping_df = mapping_df.rename(columns={\"labels\": \"image_name\", \"liststring\": \"tags\"})\n",
    "mapping_df.head()"
   ]
  },
  {
   "cell_type": "code",
   "execution_count": 7,
   "metadata": {},
   "outputs": [],
   "source": [
    "random.seed(123)\n",
    "train, validate, test = \\\n",
    "              np.split(mapping_df.sample(frac=1, random_state=42), \n",
    "                       [int(.6*len(mapping_df)), int(.8*len(mapping_df))])  "
   ]
  },
  {
   "cell_type": "code",
   "execution_count": 8,
   "metadata": {},
   "outputs": [],
   "source": [
    "#need to reindex\n",
    "train = train.reset_index(drop=True)\n",
    "validate = validate.reset_index(drop=True)\n",
    "test = test.reset_index(drop=True)\n"
   ]
  },
  {
   "cell_type": "code",
   "execution_count": null,
   "metadata": {},
   "outputs": [],
   "source": [
    "#create a set of labels\n",
    "labels = set()\n",
    "for i in range(len(mapping_df)):\n",
    "    # convert spaced separated tags into an array of tags\n",
    "    tags = mapping_df['tags'][i].split(' ')\n",
    "    # add tags to the set of known labels\n",
    "    labels.update(tags)"
   ]
  },
  {
   "cell_type": "code",
   "execution_count": null,
   "metadata": {},
   "outputs": [],
   "source": [
    "# convert set of labels to a list to list\n",
    "labels = list(labels)\n",
    "# order set alphabetically\n",
    "labels.sort()"
   ]
  },
  {
   "cell_type": "code",
   "execution_count": null,
   "metadata": {},
   "outputs": [],
   "source": [
    "# dict that maps labels to integers, and the reverse\n",
    "labels_map = {labels[i]:i for i in range(len(labels))}\n",
    "inv_labels_map = {i:labels[i] for i in range(len(labels))}\n",
    "\n",
    "# dict that maps labels to integers, and the reverse\n",
    "labels_map = {labels[i]:i for i in range(len(labels))}\n",
    "inv_labels_map = {i:labels[i] for i in range(len(labels))}"
   ]
  },
  {
   "cell_type": "code",
   "execution_count": null,
   "metadata": {},
   "outputs": [],
   "source": [
    "labels_map"
   ]
  },
  {
   "cell_type": "code",
   "execution_count": 9,
   "metadata": {},
   "outputs": [],
   "source": [
    "# create a mapping of tags to integers given the loaded mapping file\n",
    "def create_tag_mapping(mapping_csv):\n",
    "    # create a set of all known tags\n",
    "        labels = set()\n",
    "        for i in range(len(mapping_csv)):\n",
    "            # convert spaced separated tags into an array of tags\n",
    "            tags = mapping_csv['tags'][i].split(' ')\n",
    "            # add tags to the set of known labels\n",
    "            labels.update(tags)\n",
    "        # convert set of labels to a list to list\n",
    "        labels = list(labels)\n",
    "        # order set alphabetically\n",
    "        labels.sort()\n",
    "        # dict that maps labels to integers, and the reverse\n",
    "        labels_map = {labels[i]:i for i in range(len(labels))}\n",
    "        inv_labels_map = {i:labels[i] for i in range(len(labels))}\n",
    "        return labels_map, inv_labels_map\n",
    "\n",
    " "
   ]
  },
  {
   "cell_type": "code",
   "execution_count": null,
   "metadata": {},
   "outputs": [],
   "source": [
    "# create a mapping of tags to integers\n",
    "train_mapping, train_inv_mapping = create_tag_mapping(train)\n",
    "print(len(train_mapping))\n",
    "print(train_mapping)"
   ]
  },
  {
   "cell_type": "code",
   "execution_count": 10,
   "metadata": {},
   "outputs": [],
   "source": [
    "# create a mapping of filename to tags\n",
    "def create_file_mapping(mapping_csv):\n",
    "    mapping = dict()\n",
    "    for i in range(len(mapping_csv)):\n",
    "        name, tags = mapping_csv['image_name'][i], mapping_csv['tags'][i]\n",
    "        mapping[name] = tags.split(' ')\n",
    "    return mapping"
   ]
  },
  {
   "cell_type": "code",
   "execution_count": 11,
   "metadata": {},
   "outputs": [],
   "source": [
    "\n",
    "# create a one hot encoding for one list of tags\n",
    "def one_hot_encode(tags, mapping):\n",
    "    # create empty vector\n",
    "    encoding = zeros(len(mapping), dtype='uint8')\n",
    "    # mark 1 for each tag in the vector\n",
    "    for tag in tags:\n",
    "        encoding[mapping[tag]] = 1\n",
    "    return encoding"
   ]
  },
  {
   "cell_type": "code",
   "execution_count": 12,
   "metadata": {},
   "outputs": [],
   "source": [
    "\n",
    "# load all images into memory\n",
    "def load_dataset(file_mapping, tag_mapping, data):\n",
    "    photos, targets = list(), list()\n",
    "    # enumerate files in the directory\n",
    "    for i in tqdm(range(data.shape[0])):\n",
    "        # load image\n",
    "        filename = data.iloc[i][0]\n",
    "        photo = load_img('C:/Users/miapi/Downloads/ttpla_dataset/sized_data - Copy/'+filename+'.jpg',target_size=(400,400,3))\n",
    "        # convert to numpy array\n",
    "        photo = img_to_array(photo, dtype='uint8')\n",
    "        # get tags\n",
    "        tags = file_mapping[filename]\n",
    "        # one hot encode tags\n",
    "        target = one_hot_encode(tags, tag_mapping)\n",
    "        # store\n",
    "        photos.append(photo)\n",
    "        targets.append(target)\n",
    "    X = asarray(photos, dtype='uint8')\n",
    "    y = asarray(targets, dtype='uint8')\n",
    "    return X, y"
   ]
  },
  {
   "cell_type": "code",
   "execution_count": 13,
   "metadata": {},
   "outputs": [],
   "source": [
    "from os import listdir\n",
    "from numpy import zeros\n",
    "from numpy import asarray\n",
    "from numpy import savez_compressed\n",
    "from pandas import read_csv\n",
    "from keras.preprocessing.image import load_img\n",
    "from keras.preprocessing.image import img_to_array"
   ]
  },
  {
   "cell_type": "code",
   "execution_count": 14,
   "metadata": {},
   "outputs": [],
   "source": [
    "# load the mapping file\n",
    "train_mapping_csv = train\n",
    "# create a mapping of tags to integers\n",
    "train_tag_mapping, _ = create_tag_mapping(train_mapping_csv)\n",
    "# create a mapping of filenames to tag lists\n",
    "train_file_mapping = create_file_mapping(train_mapping_csv)"
   ]
  },
  {
   "cell_type": "code",
   "execution_count": 15,
   "metadata": {},
   "outputs": [
    {
     "name": "stderr",
     "output_type": "stream",
     "text": [
      "100%|███████████████████████████████████████████████████████████████████████████████| 744/744 [00:02<00:00, 253.24it/s]\n"
     ]
    },
    {
     "name": "stdout",
     "output_type": "stream",
     "text": [
      "(744, 400, 400, 3) (744, 3)\n"
     ]
    }
   ],
   "source": [
    "# load the jpeg images\n",
    "trainX, trainY = load_dataset(train_file_mapping, train_tag_mapping, train)\n",
    "print(X.shape, y.shape)\n",
    "# save both arrays to one file in compressed format\n",
    "savez_compressed('planet_data.npz', trainX, trainY)"
   ]
  },
  {
   "cell_type": "code",
   "execution_count": 16,
   "metadata": {},
   "outputs": [],
   "source": [
    "# load the mapping file\n",
    "valid_mapping_csv = validate\n",
    "# create a mapping of tags to integers\n",
    "valid_tag_mapping, _ = create_tag_mapping(valid_mapping_csv)\n",
    "# create a mapping of filenames to tag lists\n",
    "valid_file_mapping = create_file_mapping(valid_mapping_csv)"
   ]
  },
  {
   "cell_type": "code",
   "execution_count": 17,
   "metadata": {},
   "outputs": [
    {
     "name": "stderr",
     "output_type": "stream",
     "text": [
      "100%|███████████████████████████████████████████████████████████████████████████████| 248/248 [00:01<00:00, 198.79it/s]\n"
     ]
    },
    {
     "name": "stdout",
     "output_type": "stream",
     "text": [
      "(248, 400, 400, 3) (248, 4)\n"
     ]
    }
   ],
   "source": [
    "# load the jpeg images\n",
    "validX, validY = load_dataset(valid_file_mapping, valid_tag_mapping, validate)\n",
    "print(validX.shape, validY.shape)\n",
    "# save both arrays to one file in compressed format\n",
    "savez_compressed('planet_data.npz', validX, validY)"
   ]
  },
  {
   "cell_type": "code",
   "execution_count": 18,
   "metadata": {},
   "outputs": [],
   "source": [
    "# load the mapping file\n",
    "test_mapping_csv = test\n",
    "# create a mapping of tags to integers\n",
    "test_tag_mapping, _ = create_tag_mapping(test_mapping_csv)\n",
    "# create a mapping of filenames to tag lists\n",
    "test_file_mapping = create_file_mapping(test_mapping_csv)"
   ]
  },
  {
   "cell_type": "code",
   "execution_count": 19,
   "metadata": {},
   "outputs": [
    {
     "name": "stderr",
     "output_type": "stream",
     "text": [
      "100%|███████████████████████████████████████████████████████████████████████████████| 249/249 [00:01<00:00, 218.71it/s]\n"
     ]
    },
    {
     "name": "stdout",
     "output_type": "stream",
     "text": [
      "(249, 400, 400, 3) (249, 4)\n"
     ]
    }
   ],
   "source": [
    "# load the jpeg images\n",
    "testX, testY = load_dataset(test_file_mapping, test_tag_mapping, test)\n",
    "print(testX.shape, testY.shape)\n",
    "# save both arrays to one file in compressed format\n",
    "savez_compressed('planet_data.npz', testX, testY)"
   ]
  },
  {
   "cell_type": "code",
   "execution_count": 27,
   "metadata": {},
   "outputs": [],
   "source": [
    "from numpy import load\n",
    "from numpy import ones\n",
    "from numpy import asarray\n",
    "from sklearn.model_selection import train_test_split\n",
    "from sklearn.metrics import fbeta_score\n"
   ]
  },
  {
   "cell_type": "code",
   "execution_count": 21,
   "metadata": {},
   "outputs": [
    {
     "name": "stdout",
     "output_type": "stream",
     "text": [
      "All Ones: train=0.645, test=0.653\n"
     ]
    },
    {
     "name": "stderr",
     "output_type": "stream",
     "text": [
      "C:\\Users\\miapi\\AppData\\Local\\Programs\\Python\\Python37\\lib\\site-packages\\sklearn\\utils\\validation.py:70: FutureWarning: Pass beta=2 as keyword args. From version 0.25 passing these as positional arguments will result in an error\n",
      "  FutureWarning)\n"
     ]
    }
   ],
   "source": [
    "# make all one predictions\n",
    "train_yhat = asarray([ones(trainY.shape[1]) for _ in range(trainY.shape[0])])\n",
    "valid_yhat = asarray([ones(validY.shape[1]) for _ in range(validY.shape[0])])\n",
    "test_yhat = asarray([ones(testY.shape[1]) for _ in range(testY.shape[0])])\n",
    "# evaluate predictions\n",
    "train_score = fbeta_score(trainY, train_yhat, 2, average='samples')\n",
    "test_score = fbeta_score(testY, test_yhat, 2, average='samples')\n",
    "print('All Ones: train=%.3f, test=%.3f' % (train_score, test_score))"
   ]
  },
  {
   "cell_type": "code",
   "execution_count": 22,
   "metadata": {},
   "outputs": [],
   "source": [
    "\n",
    "from keras import backend\n",
    "\n",
    "# calculate fbeta score for multi-class/label classification\n",
    "def fbeta(y_true, y_pred, beta=2):\n",
    "    # clip predictions\n",
    "    y_pred = backend.clip(y_pred, 0, 1)\n",
    "    # calculate elements\n",
    "    tp = backend.sum(backend.round(backend.clip(y_true * y_pred, 0, 1)), axis=1)\n",
    "    fp = backend.sum(backend.round(backend.clip(y_pred - y_true, 0, 1)), axis=1)\n",
    "    fn = backend.sum(backend.round(backend.clip(y_true - y_pred, 0, 1)), axis=1)\n",
    "    # calculate precision\n",
    "    p = tp / (tp + fp + backend.epsilon())\n",
    "    # calculate recall\n",
    "    r = tp / (tp + fn + backend.epsilon())\n",
    "    # calculate fbeta, averaged across each class\n",
    "    bb = beta ** 2\n",
    "    fbeta_score = backend.mean((1 + bb) * (p * r) / (bb * p + r + backend.epsilon()))\n",
    "    return fbeta_score\n"
   ]
  },
  {
   "cell_type": "code",
   "execution_count": 23,
   "metadata": {},
   "outputs": [
    {
     "name": "stdout",
     "output_type": "stream",
     "text": [
      "All Ones (keras): train=0.645, test=0.653\n"
     ]
    }
   ],
   "source": [
    "# evaluate predictions with keras\n",
    "train_score = fbeta(backend.variable(trainY), backend.variable(train_yhat))\n",
    "test_score = fbeta(backend.variable(testY), backend.variable(test_yhat))\n",
    "print('All Ones (keras): train=%.3f, test=%.3f' % (train_score, test_score))"
   ]
  },
  {
   "cell_type": "markdown",
   "metadata": {},
   "source": [
    "### Baseline Model"
   ]
  },
  {
   "cell_type": "code",
   "execution_count": 24,
   "metadata": {},
   "outputs": [],
   "source": [
    "\n",
    "# define cnn model\n",
    "def define_model(in_shape=(400, 400, 3), out_shape=4):\n",
    "    model = Sequential()\n",
    "    model.add(Conv2D(32, (3, 3), activation='relu', kernel_initializer='he_uniform', padding='same', input_shape=in_shape))\n",
    "    model.add(Conv2D(32, (3, 3), activation='relu', kernel_initializer='he_uniform', padding='same'))\n",
    "    model.add(MaxPooling2D((2, 2)))\n",
    "    model.add(Conv2D(64, (3, 3), activation='relu', kernel_initializer='he_uniform', padding='same'))\n",
    "    model.add(Conv2D(64, (3, 3), activation='relu', kernel_initializer='he_uniform', padding='same'))\n",
    "    model.add(MaxPooling2D((2, 2)))\n",
    "    model.add(Conv2D(128, (3, 3), activation='relu', kernel_initializer='he_uniform', padding='same'))\n",
    "    model.add(Conv2D(128, (3, 3), activation='relu', kernel_initializer='he_uniform', padding='same'))\n",
    "    model.add(MaxPooling2D((2, 2)))\n",
    "    model.add(Flatten())\n",
    "    model.add(Dense(128, activation='relu', kernel_initializer='he_uniform'))\n",
    "    model.add(Dense(out_shape, activation='sigmoid'))\n",
    "    # compile model\n",
    "    opt = SGD(lr=0.01, momentum=0.9)\n",
    "    model.compile(optimizer=opt, loss='binary_crossentropy', metrics=[fbeta])\n",
    "    return model"
   ]
  },
  {
   "cell_type": "code",
   "execution_count": 25,
   "metadata": {},
   "outputs": [],
   "source": [
    "\n",
    "# plot diagnostic learning curves\n",
    "def summarize_diagnostics(history):\n",
    "\t# plot loss\n",
    "\tpyplot.subplot(211)\n",
    "\tpyplot.title('Cross Entropy Loss')\n",
    "\tpyplot.plot(history.history['loss'], color='blue', label='train')\n",
    "\tpyplot.plot(history.history['val_loss'], color='orange', label='test')\n",
    "\t# plot accuracy\n",
    "\tpyplot.subplot(212)\n",
    "\tpyplot.title('Fbeta')\n",
    "\tpyplot.plot(history.history['fbeta'], color='blue', label='train')\n",
    "\tpyplot.plot(history.history['val_fbeta'], color='orange', label='test')\n",
    "\t# save plot to file\n",
    "\tfilename = sys.argv[0].split('/')[-1]\n",
    "\tpyplot.savefig(filename + '_plot.png')\n",
    "\tpyplot.close()"
   ]
  },
  {
   "cell_type": "code",
   "execution_count": 30,
   "metadata": {},
   "outputs": [],
   "source": [
    "# create data generator\n",
    "datagen = ImageDataGenerator(rescale=1.0/255.0)\n",
    "# prepare iterators\n",
    "train_it = datagen.flow(trainX, trainY, batch_size=32)\n",
    "valid_it = datagen.flow(validX, validY, batch_size=32)\n",
    "test_it = datagen.flow(testX, testY, batch_size=32)\n",
    "# define model\n",
    "model = define_model()\n"
   ]
  },
  {
   "cell_type": "code",
   "execution_count": 31,
   "metadata": {},
   "outputs": [
    {
     "name": "stderr",
     "output_type": "stream",
     "text": [
      "C:\\Users\\miapi\\AppData\\Local\\Programs\\Python\\Python37\\lib\\site-packages\\tensorflow\\python\\keras\\engine\\training.py:1844: UserWarning: `Model.fit_generator` is deprecated and will be removed in a future version. Please use `Model.fit`, which supports generators.\n",
      "  warnings.warn('`Model.fit_generator` is deprecated and '\n"
     ]
    },
    {
     "name": "stdout",
     "output_type": "stream",
     "text": [
      "Epoch 1/50\n",
      "24/24 [==============================] - 585s 24s/step - loss: 2.1814 - fbeta: 0.4266 - val_loss: 0.6167 - val_fbeta: 0.0000e+00\n",
      "Epoch 2/50\n",
      "24/24 [==============================] - 593s 25s/step - loss: 0.5663 - fbeta: 0.2477 - val_loss: 0.5598 - val_fbeta: 0.3948\n",
      "Epoch 3/50\n",
      "24/24 [==============================] - 599s 25s/step - loss: 0.5169 - fbeta: 0.5302 - val_loss: 0.5465 - val_fbeta: 0.5159\n",
      "Epoch 4/50\n",
      "24/24 [==============================] - 488s 20s/step - loss: 0.5349 - fbeta: 0.4292 - val_loss: 0.5685 - val_fbeta: 0.5153\n",
      "Epoch 5/50\n",
      "24/24 [==============================] - 484s 20s/step - loss: 0.5287 - fbeta: 0.4327 - val_loss: 0.5423 - val_fbeta: 0.3330\n",
      "Epoch 6/50\n",
      "24/24 [==============================] - 485s 20s/step - loss: 0.5085 - fbeta: 0.3318 - val_loss: 0.5418 - val_fbeta: 0.4506\n",
      "Epoch 7/50\n",
      "24/24 [==============================] - 504s 21s/step - loss: 0.5223 - fbeta: 0.4149 - val_loss: 0.5826 - val_fbeta: 0.5109\n",
      "Epoch 8/50\n",
      "24/24 [==============================] - 488s 21s/step - loss: 0.5391 - fbeta: 0.4732 - val_loss: 0.5356 - val_fbeta: 0.4300\n",
      "Epoch 9/50\n",
      "24/24 [==============================] - 487s 20s/step - loss: 0.5123 - fbeta: 0.4037 - val_loss: 0.5311 - val_fbeta: 0.2114\n",
      "Epoch 10/50\n",
      "24/24 [==============================] - 482s 20s/step - loss: 0.5030 - fbeta: 0.3291 - val_loss: 0.5361 - val_fbeta: 0.2297\n",
      "Epoch 11/50\n",
      "24/24 [==============================] - 482s 20s/step - loss: 0.4938 - fbeta: 0.4254 - val_loss: 0.5260 - val_fbeta: 0.4005\n",
      "Epoch 12/50\n",
      "24/24 [==============================] - 491s 20s/step - loss: 0.4699 - fbeta: 0.5277 - val_loss: 0.5315 - val_fbeta: 0.1706\n",
      "Epoch 13/50\n",
      "24/24 [==============================] - 489s 20s/step - loss: 0.4657 - fbeta: 0.3621 - val_loss: 0.5485 - val_fbeta: 0.4673\n",
      "Epoch 14/50\n",
      "24/24 [==============================] - 499s 21s/step - loss: 0.4399 - fbeta: 0.5531 - val_loss: 0.7780 - val_fbeta: 0.5690\n",
      "Epoch 15/50\n",
      "24/24 [==============================] - 496s 21s/step - loss: 0.4448 - fbeta: 0.4734 - val_loss: 0.6003 - val_fbeta: 0.5598\n",
      "Epoch 16/50\n",
      "24/24 [==============================] - 492s 21s/step - loss: 0.3214 - fbeta: 0.6433 - val_loss: 0.6679 - val_fbeta: 0.4243\n",
      "Epoch 17/50\n",
      "24/24 [==============================] - 484s 20s/step - loss: 0.2046 - fbeta: 0.8159 - val_loss: 0.5645 - val_fbeta: 0.3792\n",
      "Epoch 18/50\n",
      "24/24 [==============================] - 483s 20s/step - loss: 0.3906 - fbeta: 0.6094 - val_loss: 0.7191 - val_fbeta: 0.2012\n",
      "Epoch 19/50\n",
      "24/24 [==============================] - 482s 20s/step - loss: 0.2089 - fbeta: 0.8112 - val_loss: 0.7541 - val_fbeta: 0.2921\n",
      "Epoch 20/50\n",
      "24/24 [==============================] - 489s 20s/step - loss: 0.1500 - fbeta: 0.8783 - val_loss: 1.3710 - val_fbeta: 0.3651\n",
      "Epoch 21/50\n",
      "24/24 [==============================] - 486s 20s/step - loss: 0.0380 - fbeta: 0.9749 - val_loss: 1.7421 - val_fbeta: 0.3419\n",
      "Epoch 22/50\n",
      "24/24 [==============================] - 486s 20s/step - loss: 0.0355 - fbeta: 0.9814 - val_loss: 1.7601 - val_fbeta: 0.3908\n",
      "Epoch 23/50\n",
      "24/24 [==============================] - 484s 20s/step - loss: 0.0348 - fbeta: 0.9844 - val_loss: 2.2391 - val_fbeta: 0.5235\n",
      "Epoch 24/50\n",
      "24/24 [==============================] - 502s 21s/step - loss: 0.0331 - fbeta: 0.9848 - val_loss: 2.4150 - val_fbeta: 0.5403\n",
      "Epoch 25/50\n",
      "24/24 [==============================] - 505s 21s/step - loss: 0.0274 - fbeta: 0.9960 - val_loss: 2.4785 - val_fbeta: 0.3438\n",
      "Epoch 26/50\n",
      "24/24 [==============================] - 482s 20s/step - loss: 0.0110 - fbeta: 0.9923 - val_loss: 2.0495 - val_fbeta: 0.4552\n",
      "Epoch 27/50\n",
      "24/24 [==============================] - 503s 21s/step - loss: 0.0048 - fbeta: 0.9998 - val_loss: 2.2635 - val_fbeta: 0.4432\n",
      "Epoch 28/50\n",
      "24/24 [==============================] - 482s 20s/step - loss: 0.0048 - fbeta: 0.9986 - val_loss: 2.2293 - val_fbeta: 0.4372\n",
      "Epoch 29/50\n",
      "24/24 [==============================] - 496s 21s/step - loss: 0.0034 - fbeta: 0.9995 - val_loss: 2.5267 - val_fbeta: 0.4510\n",
      "Epoch 30/50\n",
      "24/24 [==============================] - 498s 21s/step - loss: 0.0020 - fbeta: 0.9996 - val_loss: 2.6698 - val_fbeta: 0.4389\n",
      "Epoch 31/50\n",
      "24/24 [==============================] - 493s 21s/step - loss: 0.0028 - fbeta: 0.9947 - val_loss: 2.6679 - val_fbeta: 0.4291\n",
      "Epoch 32/50\n",
      "24/24 [==============================] - 484s 20s/step - loss: 0.0030 - fbeta: 0.9992 - val_loss: 2.7560 - val_fbeta: 0.4286\n",
      "Epoch 33/50\n",
      "24/24 [==============================] - 484s 20s/step - loss: 9.0533e-04 - fbeta: 0.9976 - val_loss: 2.8175 - val_fbeta: 0.4299\n",
      "Epoch 34/50\n",
      "24/24 [==============================] - 480s 20s/step - loss: 0.0015 - fbeta: 0.9989 - val_loss: 2.7826 - val_fbeta: 0.4388\n",
      "Epoch 35/50\n",
      "24/24 [==============================] - 496s 21s/step - loss: 6.3047e-04 - fbeta: 0.9997 - val_loss: 2.7899 - val_fbeta: 0.4331\n",
      "Epoch 36/50\n",
      "24/24 [==============================] - 505s 21s/step - loss: 0.0021 - fbeta: 0.9966 - val_loss: 2.7364 - val_fbeta: 0.4204\n",
      "Epoch 37/50\n",
      "24/24 [==============================] - 484s 20s/step - loss: 6.9646e-04 - fbeta: 0.9998 - val_loss: 2.8411 - val_fbeta: 0.4238\n",
      "Epoch 38/50\n",
      "24/24 [==============================] - 504s 21s/step - loss: 5.6709e-04 - fbeta: 0.9987 - val_loss: 2.9169 - val_fbeta: 0.4294\n",
      "Epoch 39/50\n",
      "24/24 [==============================] - 491s 21s/step - loss: 6.0714e-04 - fbeta: 0.9998 - val_loss: 2.9308 - val_fbeta: 0.4397\n",
      "Epoch 40/50\n",
      "24/24 [==============================] - 495s 21s/step - loss: 4.2883e-04 - fbeta: 0.9998 - val_loss: 2.6933 - val_fbeta: 0.4140\n",
      "Epoch 41/50\n",
      "24/24 [==============================] - 500s 21s/step - loss: 0.0018 - fbeta: 0.9978 - val_loss: 2.7115 - val_fbeta: 0.4157\n",
      "Epoch 42/50\n",
      "24/24 [==============================] - 489s 20s/step - loss: 6.8884e-04 - fbeta: 0.9990 - val_loss: 2.8475 - val_fbeta: 0.4248\n",
      "Epoch 43/50\n",
      "24/24 [==============================] - 503s 21s/step - loss: 0.0017 - fbeta: 0.9981 - val_loss: 2.9648 - val_fbeta: 0.4257\n",
      "Epoch 44/50\n",
      "24/24 [==============================] - 496s 21s/step - loss: 4.7153e-04 - fbeta: 0.9999 - val_loss: 3.0354 - val_fbeta: 0.4278\n",
      "Epoch 45/50\n",
      "24/24 [==============================] - 492s 21s/step - loss: 0.0011 - fbeta: 1.0000 - val_loss: 3.1005 - val_fbeta: 0.4196\n",
      "Epoch 46/50\n",
      "24/24 [==============================] - 496s 21s/step - loss: 2.1221e-04 - fbeta: 0.9998 - val_loss: 3.1693 - val_fbeta: 0.4229\n",
      "Epoch 47/50\n",
      "24/24 [==============================] - 484s 20s/step - loss: 3.1369e-04 - fbeta: 0.9997 - val_loss: 3.2006 - val_fbeta: 0.4256\n",
      "Epoch 48/50\n",
      "24/24 [==============================] - 493s 21s/step - loss: 4.8913e-04 - fbeta: 1.0000 - val_loss: 3.2395 - val_fbeta: 0.4268\n",
      "Epoch 49/50\n",
      "24/24 [==============================] - 495s 21s/step - loss: 2.4503e-04 - fbeta: 0.9999 - val_loss: 3.2773 - val_fbeta: 0.4299\n",
      "Epoch 50/50\n",
      "24/24 [==============================] - 484s 20s/step - loss: 4.8982e-04 - fbeta: 0.9999 - val_loss: 3.3288 - val_fbeta: 0.4265\n"
     ]
    },
    {
     "name": "stderr",
     "output_type": "stream",
     "text": [
      "C:\\Users\\miapi\\AppData\\Local\\Programs\\Python\\Python37\\lib\\site-packages\\tensorflow\\python\\keras\\engine\\training.py:1877: UserWarning: `Model.evaluate_generator` is deprecated and will be removed in a future version. Please use `Model.evaluate`, which supports generators.\n",
      "  warnings.warn('`Model.evaluate_generator` is deprecated and '\n"
     ]
    },
    {
     "name": "stdout",
     "output_type": "stream",
     "text": [
      "8/8 [==============================] - 42s 5s/step - loss: 3.3288 - fbeta: 0.4243\n",
      "> loss=3.329, fbeta=0.424\n"
     ]
    }
   ],
   "source": [
    "# fit model\n",
    "history = model.fit_generator(train_it, steps_per_epoch=len(train_it),\n",
    "    validation_data=test_it, validation_steps=len(test_it), epochs=50, verbose=1)\n",
    "# evaluate model\n",
    "loss, fbeta = model.evaluate_generator(test_it, steps=len(test_it), verbose=1)\n",
    "print('> loss=%.3f, fbeta=%.3f' % (loss, fbeta))\n",
    "# learning curves\n",
    "summarize_diagnostics(history)"
   ]
  },
  {
   "cell_type": "code",
   "execution_count": 33,
   "metadata": {},
   "outputs": [
    {
     "data": {
      "text/plain": [
       "[<matplotlib.lines.Line2D at 0x17b832fd308>]"
      ]
     },
     "execution_count": 33,
     "metadata": {},
     "output_type": "execute_result"
    },
    {
     "data": {
      "image/png": "[encoded data removed]",
      "text/plain": [
       "<Figure size 432x288 with 1 Axes>"
      ]
     },
     "metadata": {
      "needs_background": "light"
     },
     "output_type": "display_data"
    }
   ],
   "source": [
    "# plot loss\n",
    "pyplot.subplot(211)\n",
    "pyplot.title('Cross Entropy Loss')\n",
    "pyplot.plot(history.history['loss'], color='blue', label='train')\n",
    "pyplot.plot(history.history['val_loss'], color='orange', label='validation')\n"
   ]
  },
  {
   "cell_type": "code",
   "execution_count": 34,
   "metadata": {},
   "outputs": [
    {
     "data": {
      "text/plain": [
       "[<matplotlib.lines.Line2D at 0x17b83360508>]"
      ]
     },
     "execution_count": 34,
     "metadata": {},
     "output_type": "execute_result"
    },
    {
     "data": {
      "image/png": "[encoded data removed]",
      "text/plain": [
       "<Figure size 432x288 with 1 Axes>"
      ]
     },
     "metadata": {
      "needs_background": "light"
     },
     "output_type": "display_data"
    }
   ],
   "source": [
    "# plot accuracy\n",
    "pyplot.subplot(212)\n",
    "pyplot.title('Fbeta')\n",
    "pyplot.plot(history.history['fbeta'], color='blue', label='train')\n",
    "pyplot.plot(history.history['val_fbeta'], color='orange', label='validation')"
   ]
  },
  {
   "cell_type": "markdown",
   "metadata": {},
   "source": [
    "## Improve Model "
   ]
  },
  {
   "cell_type": "markdown",
   "metadata": {},
   "source": [
    "### dropout regularization"
   ]
  },
  {
   "cell_type": "code",
   "execution_count": 39,
   "metadata": {},
   "outputs": [],
   "source": [
    "# calculate fbeta score for multi-class/label classification\n",
    "def fbeta(y_true, y_pred, beta=2):\n",
    "    # clip predictions\n",
    "    y_pred = backend.clip(y_pred, 0, 1)\n",
    "    # calculate elements\n",
    "    tp = backend.sum(backend.round(backend.clip(y_true * y_pred, 0, 1)), axis=1)\n",
    "    fp = backend.sum(backend.round(backend.clip(y_pred - y_true, 0, 1)), axis=1)\n",
    "    fn = backend.sum(backend.round(backend.clip(y_true - y_pred, 0, 1)), axis=1)\n",
    "    # calculate precision\n",
    "    p = tp / (tp + fp + backend.epsilon())\n",
    "    # calculate recall\n",
    "    r = tp / (tp + fn + backend.epsilon())\n",
    "    # calculate fbeta, averaged across each class\n",
    "    bb = beta ** 2\n",
    "    fbeta_score = backend.mean((1 + bb) * (p * r) / (bb * p + r + backend.epsilon()))\n",
    "    return fbeta_score"
   ]
  },
  {
   "cell_type": "code",
   "execution_count": 40,
   "metadata": {},
   "outputs": [],
   "source": [
    "def define_model(in_shape=(400, 400, 3), out_shape=4):\n",
    "    model = Sequential()\n",
    "    model.add(Conv2D(32, (3, 3), activation='relu', kernel_initializer='he_uniform', padding='same', input_shape=in_shape))\n",
    "    model.add(Conv2D(32, (3, 3), activation='relu', kernel_initializer='he_uniform', padding='same'))\n",
    "    model.add(MaxPooling2D((2, 2)))\n",
    "    model.add(Dropout(0.2))\n",
    "    model.add(Conv2D(64, (3, 3), activation='relu', kernel_initializer='he_uniform', padding='same'))\n",
    "    model.add(Conv2D(64, (3, 3), activation='relu', kernel_initializer='he_uniform', padding='same'))\n",
    "    model.add(MaxPooling2D((2, 2)))\n",
    "    model.add(Dropout(0.2))\n",
    "    model.add(Conv2D(128, (3, 3), activation='relu', kernel_initializer='he_uniform', padding='same'))\n",
    "    model.add(Conv2D(128, (3, 3), activation='relu', kernel_initializer='he_uniform', padding='same'))\n",
    "    model.add(MaxPooling2D((2, 2)))\n",
    "    model.add(Dropout(0.2))\n",
    "    model.add(Flatten())\n",
    "    model.add(Dense(128, activation='relu', kernel_initializer='he_uniform'))\n",
    "    model.add(Dropout(0.5))\n",
    "    model.add(Dense(out_shape, activation='sigmoid'))\n",
    "    # compile model\n",
    "    opt = SGD(lr=0.01, momentum=0.9)\n",
    "    model.compile(optimizer=opt, loss='binary_crossentropy', metrics=[fbeta])\n",
    "    return model"
   ]
  },
  {
   "cell_type": "code",
   "execution_count": 41,
   "metadata": {},
   "outputs": [],
   "source": [
    "# create data generator\n",
    "datagen = ImageDataGenerator(rescale=1.0/255.0)\n",
    "# prepare iterators\n",
    "train_it = datagen.flow(trainX, trainY, batch_size=32)\n",
    "valid_it = datagen.flow(validX, validY, batch_size=32)\n",
    "test_it = datagen.flow(testX, testY, batch_size=32)\n",
    "# define model\n",
    "model = define_model()"
   ]
  },
  {
   "cell_type": "code",
   "execution_count": null,
   "metadata": {},
   "outputs": [
    {
     "name": "stdout",
     "output_type": "stream",
     "text": [
      "Epoch 1/50\n"
     ]
    }
   ],
   "source": [
    "# fit model\n",
    "history = model.fit_generator(train_it, steps_per_epoch=len(train_it),\n",
    "    validation_data=test_it, validation_steps=len(test_it), epochs=50, verbose=1)\n",
    "# evaluate model\n",
    "loss, fbeta = model.evaluate_generator(test_it, steps=len(test_it), verbose=1)\n",
    "print('> loss=%.3f, fbeta=%.3f' % (loss, fbeta))\n",
    "# learning curves\n",
    "summarize_diagnostics(history)"
   ]
  }
 ],
 "metadata": {
  "kernelspec": {
   "display_name": "Python 3",
   "language": "python",
   "name": "python3"
  },
  "language_info": {
   "codemirror_mode": {
    "name": "ipython",
    "version": 3
   },
   "file_extension": ".py",
   "mimetype": "text/x-python",
   "name": "python",
   "nbconvert_exporter": "python",
   "pygments_lexer": "ipython3",
   "version": "3.7.9"
  }
 },
 "nbformat": 4,
 "nbformat_minor": 4
}
