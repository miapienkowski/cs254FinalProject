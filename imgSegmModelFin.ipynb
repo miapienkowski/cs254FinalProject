{
  "nbformat": 4,
  "nbformat_minor": 0,
  "metadata": {
    "colab": {
      "name": "imageSegmentationModel.ipynb",
      "provenance": [],
      "collapsed_sections": [],
      "authorship_tag": "ABX9TyOm3luczdHCTxElTLwFWKFx",
      "include_colab_link": true
    },
    "kernelspec": {
      "name": "python3",
      "display_name": "Python 3"
    },
    "language_info": {
      "name": "python"
    }
  },
  "cells": [
    {
      "cell_type": "markdown",
      "metadata": {
        "id": "view-in-github",
        "colab_type": "text"
      },
      "source": [
        "<a href=\"https://colab.research.google.com/github/miapienkowski/cs254FinalProject/blob/Mia/imgSegmModelFin.ipynb\" target=\"_parent\"><img src=\"https://colab.research.google.com/assets/colab-badge.svg\" alt=\"Open In Colab\"/></a>"
      ]
    },
    {
      "cell_type": "code",
      "metadata": {
        "id": "Py9-j0exa1oT"
      },
      "source": [
        "from pycocotools.coco import COCO\n",
        "import numpy as np\n",
        "import skimage.io as io\n",
        "import random\n",
        "import os\n",
        "import cv2\n",
        "import tensorflow as tf\n",
        "from tensorflow.keras import datasets, layers, models\n",
        "from tensorflow.keras.preprocessing.image import ImageDataGenerator\n",
        "import matplotlib.pyplot as plt\n",
        "import matplotlib.gridspec as gridspec\n",
        "%matplotlib inline\n"
      ],
      "execution_count": 23,
      "outputs": []
    },
    {
      "cell_type": "code",
      "metadata": {
        "colab": {
          "base_uri": "https://localhost:8080/"
        },
        "id": "MHrlLWgpa4hi",
        "outputId": "40465df3-93a6-46a1-b4d7-c2b948373688"
      },
      "source": [
        "#import data from git repository\n",
        "!git clone https://github.com/miapienkowski/cs254FinalProject.git"
      ],
      "execution_count": 4,
      "outputs": [
        {
          "output_type": "stream",
          "text": [
            "fatal: destination path 'cs254FinalProject' already exists and is not an empty directory.\n"
          ],
          "name": "stdout"
        }
      ]
    },
    {
      "cell_type": "code",
      "metadata": {
        "id": "gmbRYv_xa-JP"
      },
      "source": [
        "#filterDataset processes data\n",
        "\n",
        "#mode train or validating or testing\n",
        "def filterDataset(folder, classes=None, mode='train'):    \n",
        "    # initialize COCO api for instance annotations\n",
        "    annFile = '{}/{}val.json'.format(folder, mode)\n",
        "    coco = COCO(annFile)\n",
        "    \n",
        "    images = []\n",
        "    if classes!=None:\n",
        "        # iterate for each individual class in the list\n",
        "        for className in classes:\n",
        "            # get all images containing given categories\n",
        "            catIds = coco.getCatIds(catNms=className)\n",
        "            imgIds = coco.getImgIds(catIds=catIds)\n",
        "            images += coco.loadImgs(imgIds)\n",
        "    \n",
        "    else:\n",
        "        imgIds = coco.getImgIds()\n",
        "        images = coco.loadImgs(imgIds)\n",
        "    \n",
        "    # Now, filter out the repeated images\n",
        "    unique_images = []\n",
        "    for i in range(len(images)):\n",
        "        if images[i] not in unique_images:\n",
        "            unique_images.append(images[i])\n",
        "            \n",
        "    random.shuffle(unique_images)\n",
        "    dataset_size = len(unique_images)\n",
        "    \n",
        "    return unique_images, dataset_size, coco"
      ],
      "execution_count": 24,
      "outputs": []
    },
    {
      "cell_type": "code",
      "metadata": {
        "id": "2v_ZV6rebFll"
      },
      "source": [
        "#image processeing\n",
        "def getImage(imageObj, img_folder, input_image_size):\n",
        "    # Read and normalize an image\n",
        "    train_img = io.imread(img_folder + '/' + imageObj['file_name'])/255.0\n",
        "    # Resize\n",
        "    train_img = cv2.resize(train_img, input_image_size)\n",
        "    if (len(train_img.shape)==3 and train_img.shape[2]==3): # If it is a RGB 3 channel image\n",
        "        return train_img\n",
        "    else: # To handle a black and white image, increase dimensions to 3\n",
        "        stacked_img = np.stack((train_img,)*3, axis=-1)\n",
        "        return stacked_img\n",
        "\n",
        "#normal mask : 2-channel semantic segmentation mask with dimensions equal to the original image    \n",
        "def getNormalMask(imageObj, classes, coco, catIds, input_image_size):\n",
        "    annIds = coco.getAnnIds(imageObj['id'], catIds=catIds, iscrowd=None)\n",
        "    anns = coco.loadAnns(annIds)\n",
        "    cats = coco.loadCats(catIds)\n",
        "    train_mask = np.zeros(input_image_size)\n",
        "    for a in range(len(anns)):\n",
        "        className = getClassName(anns[a]['category_id'], cats)\n",
        "        pixel_value = classes.index(className)+1\n",
        "        new_mask = cv2.resize(coco.annToMask(anns[a])*pixel_value, input_image_size)\n",
        "        train_mask = np.maximum(new_mask, train_mask)\n",
        "\n",
        "    # Add extra dimension for parity with train_img size [X * X * 3]\n",
        "    train_mask = train_mask.reshape(input_image_size[0], input_image_size[1], 1)\n",
        "    return train_mask  \n",
        "#binary mask: 2 pixel values- 1 (object: could be any of the N classes) and 0 (the background)   \n",
        "def getBinaryMask(imageObj, coco, catIds, input_image_size):\n",
        "    annIds = coco.getAnnIds(imageObj['id'], catIds=catIds, iscrowd=None)\n",
        "    anns = coco.loadAnns(annIds)\n",
        "    train_mask = np.zeros(input_image_size)\n",
        "    for a in range(len(anns)):\n",
        "        new_mask = cv2.resize(coco.annToMask(anns[a]), input_image_size)\n",
        "        \n",
        "        #Threshold because resizing may cause extraneous values\n",
        "        new_mask[new_mask >= 0.5] = 1\n",
        "        new_mask[new_mask < 0.5] = 0\n",
        "\n",
        "        train_mask = np.maximum(new_mask, train_mask)\n",
        "\n",
        "    # Add extra dimension for parity with train_img size [X * X * 3]\n",
        "    train_mask = train_mask.reshape(input_image_size[0], input_image_size[1], 1)\n",
        "    return train_mask"
      ],
      "execution_count": 25,
      "outputs": []
    },
    {
      "cell_type": "code",
      "metadata": {
        "id": "i7VVUqVKbKcj"
      },
      "source": [
        "#builds generator type object\n",
        "#performs batch-sized loops [lines 20~] and retrieves the image from the folder,\n",
        "# loads the mask with the filtered outputs (binary or normal segmentation masks), \n",
        "# lumps them to form an image batch and mask batch\n",
        "\n",
        "def dataGeneratorCoco(images, classes, coco, folder, \n",
        "                      input_image_size=(224,224), batch_size=4, mode='train', mask_type='binary'):\n",
        "    \n",
        "\n",
        "    img_folder = '{}/data'.format(folder)\n",
        "    dataset_size = len(images)\n",
        "    catIds = coco.getCatIds(catNms=classes)\n",
        "    \n",
        "    c = 0\n",
        "    while(True):\n",
        "        img = np.zeros((batch_size, input_image_size[0], input_image_size[1], 3)).astype('float')\n",
        "        mask = np.zeros((batch_size, input_image_size[0], input_image_size[1], 1)).astype('float')\n",
        "\n",
        "        for i in range(c, c+batch_size): #initially from 0 to batch_size, when c = 0\n",
        "            imageObj = images[i]\n",
        "            \n",
        "            ### Retrieve Image ###\n",
        "            train_img = getImage(imageObj, img_folder, input_image_size)\n",
        "            \n",
        "            ### Create Mask ###\n",
        "            if mask_type==\"binary\":\n",
        "                train_mask = getBinaryMask(imageObj, coco, catIds, input_image_size)\n",
        "            \n",
        "            elif mask_type==\"normal\":\n",
        "                train_mask = getNormalMask(imageObj, classes, coco, catIds, input_image_size)                \n",
        "            \n",
        "            # Add to respective batch sized arrays\n",
        "            img[i-c] = train_img\n",
        "            mask[i-c] = train_mask\n",
        "            \n",
        "        c+=batch_size\n",
        "        if(c + batch_size >= dataset_size):\n",
        "            c=0\n",
        "            random.shuffle(images)\n",
        "        yield img, mask"
      ],
      "execution_count": 26,
      "outputs": []
    },
    {
      "cell_type": "code",
      "metadata": {
        "id": "9yfWh6fUmtOy"
      },
      "source": [
        "def getImageMask(images, classes, coco, folder, \n",
        "                      input_image_size=(224,224), batch_size=4, mode='train', mask_type='binary'):\n",
        "    \n",
        "\n",
        "    img_folder = '{}/data'.format(folder)\n",
        "    dataset_size = len(images)\n",
        "    catIds = coco.getCatIds(catNms=classes)\n",
        "    \n",
        "    c = 154\n",
        "    while(True):\n",
        "        img = np.zeros((batch_size, input_image_size[0], input_image_size[1], 3)).astype('float')\n",
        "        mask = np.zeros((batch_size, input_image_size[0], input_image_size[1], 1)).astype('float')\n",
        "\n",
        "        for i in range(c, c+batch_size): #initially from 0 to batch_size, when c = 0\n",
        "            imageObj = images[i]\n",
        "            \n",
        "            ### Retrieve Image ###\n",
        "            train_img = getImage(imageObj, img_folder, input_image_size)\n",
        "            \n",
        "            ### Create Mask ###\n",
        "            if mask_type==\"binary\":\n",
        "                train_mask = getBinaryMask(imageObj, coco, catIds, input_image_size)\n",
        "            \n",
        "            elif mask_type==\"normal\":\n",
        "                train_mask = getNormalMask(imageObj, classes, coco, catIds, input_image_size)                \n",
        "            \n",
        "            # Add to respective batch sized arrays\n",
        "            img[i-c] = train_img\n",
        "            mask[i-c] = train_mask\n",
        "            \n",
        "        c+=batch_size\n",
        "        if(c + batch_size >= dataset_size):\n",
        "            c=0\n",
        "            random.shuffle(images)\n",
        "        return img, mask"
      ],
      "execution_count": 63,
      "outputs": []
    },
    {
      "cell_type": "code",
      "metadata": {
        "id": "uJmbS_V0lHYX"
      },
      "source": [
        "def show_predictions(dataset=None, num=1):\n",
        "  if dataset:\n",
        "    for image, mask in dataset.take(num):\n",
        "      pred_mask = model.predict(image)\n",
        "      display([image[0], mask[0], create_mask(pred_mask)])\n",
        "  else:\n",
        "    display([sample_image, sample_mask,\n",
        "             create_mask(model.predict(sample_image[tf.newaxis, ...]))])"
      ],
      "execution_count": 20,
      "outputs": []
    },
    {
      "cell_type": "code",
      "metadata": {
        "colab": {
          "base_uri": "https://localhost:8080/"
        },
        "id": "mZQT0NT7bNom",
        "outputId": "3e9b9b0d-1454-40fb-c08b-47510a952d59"
      },
      "source": [
        "#get processed validating data\n",
        "#validating\n",
        "val_folder = 'cs254FinalProject/validatingDirectory'\n",
        "val_classes = ['cable', 'tower_lattice', 'tower_tuchoy','tower_wooden']\n",
        "val_mode = 'validating'\n",
        "\n",
        "val_images, val_dataset_size, val_coco = filterDataset(val_folder, val_classes, val_mode)"
      ],
      "execution_count": 28,
      "outputs": [
        {
          "output_type": "stream",
          "text": [
            "loading annotations into memory...\n",
            "Done (t=0.02s)\n",
            "creating index...\n",
            "index created!\n"
          ],
          "name": "stdout"
        }
      ]
    },
    {
      "cell_type": "code",
      "metadata": {
        "colab": {
          "base_uri": "https://localhost:8080/"
        },
        "id": "g8jTgFk8bSy_",
        "outputId": "cb2c3312-5400-4a16-d1ac-c2d22f7311b4"
      },
      "source": [
        "#get processed training data\n",
        "#training\n",
        "train_folder = 'cs254FinalProject/trainingDirectory'\n",
        "train_classes = ['cable', 'tower_lattice', 'tower_tuchoy','tower_wooden']\n",
        "train_mode = 'train'\n",
        "\n",
        "train_images, train_dataset_size, train_coco = filterDataset(train_folder, train_classes, train_mode)"
      ],
      "execution_count": 29,
      "outputs": [
        {
          "output_type": "stream",
          "text": [
            "loading annotations into memory...\n",
            "Done (t=0.19s)\n",
            "creating index...\n",
            "index created!\n"
          ],
          "name": "stdout"
        }
      ]
    },
    {
      "cell_type": "code",
      "metadata": {
        "colab": {
          "base_uri": "https://localhost:8080/"
        },
        "id": "KRmHc8S5lO6Q",
        "outputId": "01966dad-c308-471a-bd6a-52dea754e806"
      },
      "source": [
        "#get processed training data\n",
        "#training\n",
        "test_folder = 'cs254FinalProject/testingDirectory'\n",
        "test_classes = ['cable', 'tower_lattice', 'tower_tuchoy','tower_wooden']\n",
        "test_mode = 'test'\n",
        "\n",
        "test_images, test_dataset_size, test_coco = filterDataset(test_folder, test_classes, test_mode)"
      ],
      "execution_count": 30,
      "outputs": [
        {
          "output_type": "stream",
          "text": [
            "loading annotations into memory...\n",
            "Done (t=0.24s)\n",
            "creating index...\n",
            "index created!\n"
          ],
          "name": "stdout"
        }
      ]
    },
    {
      "cell_type": "code",
      "metadata": {
        "id": "5yInf0JFbXf_"
      },
      "source": [
        "#creates a data generator object yielding batches of images and binary mask\n",
        "#val\n",
        "batch_size = 4\n",
        "input_image_size = (224,224)\n",
        "mask_type = 'binary'\n",
        "\n",
        "val_gen = dataGeneratorCoco(val_images, val_classes, val_coco, val_folder, \n",
        "                            input_image_size, batch_size, val_mode, mask_type)"
      ],
      "execution_count": 31,
      "outputs": []
    },
    {
      "cell_type": "code",
      "metadata": {
        "id": "ihH3RIzTbcOb"
      },
      "source": [
        "#creates a data generator object yielding batches of images and binary mask\n",
        "#train\n",
        "batch_size = 4\n",
        "input_image_size = (224,224)\n",
        "mask_type = 'binary'\n",
        "\n",
        "train_gen = dataGeneratorCoco(train_images, train_classes, train_coco, train_folder, \n",
        "                            input_image_size, batch_size, train_mode, mask_type)"
      ],
      "execution_count": 32,
      "outputs": []
    },
    {
      "cell_type": "code",
      "metadata": {
        "id": "z3QVumYTllOX"
      },
      "source": [
        "#creates a data generator object yielding batches of images and binary mask\n",
        "#test\n",
        "batch_size = 4\n",
        "input_image_size = (224,224)\n",
        "mask_type = 'binary'\n",
        "\n",
        "test_gen = dataGeneratorCoco(test_images, test_classes, test_coco, test_folder, \n",
        "                            input_image_size, batch_size, test_mode, mask_type)"
      ],
      "execution_count": 43,
      "outputs": []
    },
    {
      "cell_type": "code",
      "metadata": {
        "id": "E6H3-v-QKuBy"
      },
      "source": [
        "batch_size = 4\n",
        "input_image_size = (224,224)\n",
        "mask_type = 'binary'\n",
        "\n",
        "tIm, Tms = getImageMask(test_images, test_classes, test_coco, test_folder, \n",
        "                            input_image_size, batch_size, test_mode, mask_type)"
      ],
      "execution_count": 64,
      "outputs": []
    },
    {
      "cell_type": "code",
      "metadata": {
        "id": "cwKeiPNQbfqy"
      },
      "source": [
        "n_epochs = 10\n",
        "steps_per_epoch = train_dataset_size// batch_size\n",
        "validation_steps = val_dataset_size // batch_size"
      ],
      "execution_count": 34,
      "outputs": []
    },
    {
      "cell_type": "code",
      "metadata": {
        "colab": {
          "base_uri": "https://localhost:8080/"
        },
        "id": "Rfa97rhrblZc",
        "outputId": "9a12e59e-9c4e-4376-e21d-3f25892b9f07"
      },
      "source": [
        "!pip install git+https://github.com/tensorflow/examples.git"
      ],
      "execution_count": 35,
      "outputs": [
        {
          "output_type": "stream",
          "text": [
            "Collecting git+https://github.com/tensorflow/examples.git\n",
            "  Cloning https://github.com/tensorflow/examples.git to /tmp/pip-req-build-hs0xpscm\n",
            "  Running command git clone -q https://github.com/tensorflow/examples.git /tmp/pip-req-build-hs0xpscm\n",
            "Requirement already satisfied (use --upgrade to upgrade): tensorflow-examples===a4febbbd69d2632e7ed28e5a58f8473d814431b3- from git+https://github.com/tensorflow/examples.git in /usr/local/lib/python3.7/dist-packages\n",
            "Requirement already satisfied: absl-py in /usr/local/lib/python3.7/dist-packages (from tensorflow-examples===a4febbbd69d2632e7ed28e5a58f8473d814431b3-) (0.10.0)\n",
            "Requirement already satisfied: six in /usr/local/lib/python3.7/dist-packages (from tensorflow-examples===a4febbbd69d2632e7ed28e5a58f8473d814431b3-) (1.15.0)\n",
            "Building wheels for collected packages: tensorflow-examples\n",
            "  Building wheel for tensorflow-examples (setup.py) ... \u001b[?25l\u001b[?25hdone\n",
            "  Created wheel for tensorflow-examples: filename=tensorflow_examples-a4febbbd69d2632e7ed28e5a58f8473d814431b3_-cp37-none-any.whl size=225469 sha256=66eaa6064b35e3e2c878b744e9f042b9e0364e557bd04a19ec0590f66a6b7e3e\n",
            "  Stored in directory: /tmp/pip-ephem-wheel-cache-1vyyo14c/wheels/83/64/b3/4cfa02dc6f9d16bf7257892c6a7ec602cd7e0ff6ec4d7d714d\n",
            "Successfully built tensorflow-examples\n"
          ],
          "name": "stdout"
        }
      ]
    },
    {
      "cell_type": "code",
      "metadata": {
        "id": "zvEtB7HFbqzR"
      },
      "source": [
        "from tensorflow_examples.models.pix2pix import pix2pix\n",
        "import tensorflow as tf"
      ],
      "execution_count": 36,
      "outputs": []
    },
    {
      "cell_type": "code",
      "metadata": {
        "id": "4GjehVIcbu4D"
      },
      "source": [
        "OUTPUT_CHANNELS = 3\n",
        "base_model = tf.keras.applications.MobileNetV2(input_shape=[224, 224, 3], include_top=False)\n",
        "\n",
        "# Use the activations of these layers\n",
        "layer_names = [\n",
        "    'block_1_expand_relu',   # 64x64\n",
        "    'block_3_expand_relu',   # 32x32\n",
        "    'block_6_expand_relu',   # 16x16\n",
        "    'block_13_expand_relu',  # 8x8\n",
        "    'block_16_project',      # 4x4\n",
        "]\n",
        "base_model_outputs = [base_model.get_layer(name).output for name in layer_names]\n",
        "\n",
        "# Create the feature extraction model\n",
        "down_stack = tf.keras.Model(inputs=base_model.input, outputs=base_model_outputs)\n",
        "\n",
        "down_stack.trainable = False"
      ],
      "execution_count": 37,
      "outputs": []
    },
    {
      "cell_type": "code",
      "metadata": {
        "id": "8_HOcIfrbybU"
      },
      "source": [
        "up_stack = [\n",
        "    pix2pix.upsample(512, 3),  # 4x4 -> 8x8\n",
        "    pix2pix.upsample(256, 3),  # 8x8 -> 16x16\n",
        "    pix2pix.upsample(128, 3),  # 16x16 -> 32x32\n",
        "    pix2pix.upsample(64, 3),   # 32x32 -> 64x64\n",
        "]"
      ],
      "execution_count": 38,
      "outputs": []
    },
    {
      "cell_type": "code",
      "metadata": {
        "id": "lSn8IZiib1Pr"
      },
      "source": [
        "def unet_model(output_channels):\n",
        "  inputs = tf.keras.layers.Input(shape=[224, 224, 3])\n",
        "\n",
        "  # Downsampling through the model\n",
        "  skips = down_stack(inputs)\n",
        "  x = skips[-1]\n",
        "  skips = reversed(skips[:-1])\n",
        "\n",
        "  # Upsampling and establishing the skip connections\n",
        "  for up, skip in zip(up_stack, skips):\n",
        "    x = up(x)\n",
        "    concat = tf.keras.layers.Concatenate()\n",
        "    x = concat([x, skip])\n",
        "\n",
        "  # This is the last layer of the model\n",
        "  last = tf.keras.layers.Conv2DTranspose(\n",
        "      output_channels, 3, strides=2,\n",
        "      padding='same')  #64x64 -> 128x128\n",
        "\n",
        "  x = last(x)\n",
        "\n",
        "  return tf.keras.Model(inputs=inputs, outputs=x)"
      ],
      "execution_count": 39,
      "outputs": []
    },
    {
      "cell_type": "code",
      "metadata": {
        "id": "kiv-givhb4Wj"
      },
      "source": [
        "model = unet_model(OUTPUT_CHANNELS)\n",
        "model.compile(optimizer='adam',\n",
        "              loss=tf.keras.losses.SparseCategoricalCrossentropy(from_logits=True),\n",
        "              metrics=['accuracy'])"
      ],
      "execution_count": 40,
      "outputs": []
    },
    {
      "cell_type": "code",
      "metadata": {
        "colab": {
          "base_uri": "https://localhost:8080/"
        },
        "id": "NPwCYKX5b6qk",
        "outputId": "3a471f9f-6ede-4cba-dc55-6d30c629bafc"
      },
      "source": [
        "model_history = model.fit(x = train_gen,\n",
        "                validation_data = val_gen,\n",
        "                steps_per_epoch = steps_per_epoch,\n",
        "                validation_steps = validation_steps,\n",
        "                epochs = n_epochs,\n",
        "                verbose=True)"
      ],
      "execution_count": 41,
      "outputs": [
        {
          "output_type": "stream",
          "text": [
            "Epoch 1/10\n",
            "226/226 [==============================] - 199s 865ms/step - loss: 0.1866 - accuracy: 0.9783 - val_loss: 0.1236 - val_accuracy: 0.9493\n",
            "Epoch 2/10\n",
            "226/226 [==============================] - 196s 867ms/step - loss: 0.1060 - accuracy: 0.9743 - val_loss: 0.0997 - val_accuracy: 0.9656\n",
            "Epoch 3/10\n",
            "226/226 [==============================] - 195s 864ms/step - loss: 0.0971 - accuracy: 0.9660 - val_loss: 0.0973 - val_accuracy: 0.9656\n",
            "Epoch 4/10\n",
            "226/226 [==============================] - 193s 853ms/step - loss: 0.0848 - accuracy: 0.9672 - val_loss: 0.1023 - val_accuracy: 0.9820\n",
            "Epoch 5/10\n",
            "226/226 [==============================] - 195s 864ms/step - loss: 0.0849 - accuracy: 0.9628 - val_loss: 0.1419 - val_accuracy: 0.9803\n",
            "Epoch 6/10\n",
            "226/226 [==============================] - 196s 869ms/step - loss: 0.0825 - accuracy: 0.9682 - val_loss: 0.0936 - val_accuracy: 0.9750\n",
            "Epoch 7/10\n",
            "226/226 [==============================] - 195s 865ms/step - loss: 0.0791 - accuracy: 0.9634 - val_loss: 0.0950 - val_accuracy: 0.9773\n",
            "Epoch 8/10\n",
            "226/226 [==============================] - 195s 863ms/step - loss: 0.0737 - accuracy: 0.9649 - val_loss: 0.0957 - val_accuracy: 0.9686\n",
            "Epoch 9/10\n",
            "226/226 [==============================] - 195s 862ms/step - loss: 0.0790 - accuracy: 0.9583 - val_loss: 0.0829 - val_accuracy: 0.9645\n",
            "Epoch 10/10\n",
            "226/226 [==============================] - 194s 857ms/step - loss: 0.0670 - accuracy: 0.9630 - val_loss: 0.0972 - val_accuracy: 0.9582\n"
          ],
          "name": "stdout"
        }
      ]
    },
    {
      "cell_type": "code",
      "metadata": {
        "colab": {
          "base_uri": "https://localhost:8080/",
          "height": 295
        },
        "id": "YqEDZxREkWic",
        "outputId": "d5615f01-c286-4163-be34-47aab1f0d637"
      },
      "source": [
        "loss = model_history.history['loss']\n",
        "val_loss = model_history.history['val_loss']\n",
        "\n",
        "epochs = range(n_epochs)\n",
        "\n",
        "plt.figure()\n",
        "plt.plot(epochs, loss, 'r', label='Training loss')\n",
        "plt.plot(epochs, val_loss, 'bo', label='Validation loss')\n",
        "plt.title('Training and Validation Loss')\n",
        "plt.xlabel('Epoch')\n",
        "plt.ylabel('Loss Value')\n",
        "plt.ylim([0, 1])\n",
        "plt.legend()\n",
        "plt.show()"
      ],
      "execution_count": 54,
      "outputs": [
        {
          "output_type": "display_data",
          "data": {
            "image/png": "[encoded data removed]",
            "text/plain": [
              "<Figure size 432x288 with 1 Axes>"
            ]
          },
          "metadata": {
            "tags": [],
            "needs_background": "light"
          }
        }
      ]
    },
    {
      "cell_type": "code",
      "metadata": {
        "id": "fQNSpg_jnSra"
      },
      "source": [
        "\n",
        "predictions = model.predict(test_gen,3)"
      ],
      "execution_count": null,
      "outputs": []
    },
    {
      "cell_type": "code",
      "metadata": {
        "colab": {
          "base_uri": "https://localhost:8080/"
        },
        "id": "7gvpfB0Pk2Ri",
        "outputId": "16c7ebe6-89b3-4e8a-9904-7ec56fa8bd23"
      },
      "source": [
        "predictions = model.predict_generator(test_gen, 4)"
      ],
      "execution_count": 66,
      "outputs": [
        {
          "output_type": "stream",
          "text": [
            "/usr/local/lib/python3.7/dist-packages/tensorflow/python/keras/engine/training.py:1905: UserWarning: `Model.predict_generator` is deprecated and will be removed in a future version. Please use `Model.predict`, which supports generators.\n",
            "  warnings.warn('`Model.predict_generator` is deprecated and '\n"
          ],
          "name": "stderr"
        }
      ]
    },
    {
      "cell_type": "code",
      "metadata": {
        "colab": {
          "base_uri": "https://localhost:8080/"
        },
        "id": "lqOf54HTUg0e",
        "outputId": "08b4bee9-1b2e-4516-a216-38a40ab569e6"
      },
      "source": [
        "model.evaluate_generator(test_gen)"
      ],
      "execution_count": null,
      "outputs": [
        {
          "output_type": "stream",
          "text": [
            "/usr/local/lib/python3.7/dist-packages/tensorflow/python/keras/engine/training.py:1877: UserWarning: `Model.evaluate_generator` is deprecated and will be removed in a future version. Please use `Model.evaluate`, which supports generators.\n",
            "  warnings.warn('`Model.evaluate_generator` is deprecated and '\n"
          ],
          "name": "stderr"
        }
      ]
    }
  ]
}